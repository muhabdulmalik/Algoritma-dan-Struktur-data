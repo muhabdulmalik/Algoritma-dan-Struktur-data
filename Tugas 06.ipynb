{
 "cells": [
  {
   "cell_type": "code",
   "execution_count": 4,
   "metadata": {},
   "outputs": [
    {
     "name": "stdout",
     "output_type": "stream",
     "text": [
      "masukan nilai70\n",
      "tidak remidi\n"
     ]
    }
   ],
   "source": [
    "#creator => muhammad abdul malik\n",
    "nilai = int (input (\"masukan nilai\"))\n",
    "\n",
    "if nilai < 70: \n",
    "    print ('remidi')\n",
    "else:\n",
    "    print ('tidak remidi')"
   ]
  },
  {
   "cell_type": "code",
   "execution_count": 5,
   "metadata": {},
   "outputs": [
    {
     "name": "stdout",
     "output_type": "stream",
     "text": [
      "masukan jari-jari: 341\n",
      "luas lingkaran:  365122\n",
      "lingkaran ini besar\n"
     ]
    }
   ],
   "source": [
    "#creator => muhammad abdul malik\n",
    "r = int(input('masukan jari-jari: '))\n",
    "\n",
    "L =3.14 *r*r #prosses hitung luas\n",
    "\n",
    "print ('luas lingkaran: ', int (L))\n",
    "if L > 314: \n",
    "    print ('lingkaran ini besar')\n",
    "else: #kondisi apabila L lebih kecil dari 314\n",
    "    print ('lingkaran ini kecil')"
   ]
  },
  {
   "cell_type": "code",
   "execution_count": 7,
   "metadata": {},
   "outputs": [
    {
     "name": "stdout",
     "output_type": "stream",
     "text": [
      "masukan nomor:  1\n",
      "masukan nilai panjang: 56\n",
      "masukan nilai lebar: 47\n",
      "masukan nilai tinggi: 78\n",
      "volume balok = 205296\n"
     ]
    }
   ],
   "source": [
    "#creator => muhammad abdul malik\n",
    "#buat fungsi volume_balok\n",
    "def volume_balok():\n",
    "    p = int(input('masukan nilai panjang: '))\n",
    "    l = int(input('masukan nilai lebar: '))\n",
    "    t = int(input('masukan nilai tinggi: '))\n",
    "    \n",
    "    #proses hitung v_balok\n",
    "    v_balok = p * l * t\n",
    "    \n",
    "    #cetak volume balok \n",
    "    print('volume balok =', v_balok)\n",
    "    \n",
    "#buat fungsi volume_balok\n",
    "def volume_kubus ():\n",
    "    s = int(input('masukan nilai sisi: '))\n",
    "    \n",
    "    #proses hitung v_kubus \n",
    "    v_kubus = s * s * s\n",
    "    \n",
    "    #cetak volume kubus \n",
    "    print('volume kubus =', v_kubus)\n",
    "\n",
    "#meminta inputan no untuk menentukan aksi\n",
    "no = int(input('masukan nomor:  '))\n",
    "\n",
    "if no == 1:\n",
    "    volume_balok()\n",
    "elif no ==2:\n",
    "    volume_kubus()\n",
    "else:\n",
    "    print('program tidak tersedia')"
   ]
  },
  {
   "cell_type": "code",
   "execution_count": null,
   "metadata": {},
   "outputs": [],
   "source": []
  },
  {
   "cell_type": "code",
   "execution_count": null,
   "metadata": {},
   "outputs": [],
   "source": []
  }
 ],
 "metadata": {
  "kernelspec": {
   "display_name": "Python 3",
   "language": "python",
   "name": "python3"
  },
  "language_info": {
   "codemirror_mode": {
    "name": "ipython",
    "version": 3
   },
   "file_extension": ".py",
   "mimetype": "text/x-python",
   "name": "python",
   "nbconvert_exporter": "python",
   "pygments_lexer": "ipython3",
   "version": "3.8.3"
  }
 },
 "nbformat": 4,
 "nbformat_minor": 4
}
