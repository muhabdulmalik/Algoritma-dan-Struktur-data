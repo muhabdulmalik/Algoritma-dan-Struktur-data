{
 "cells": [
  {
   "cell_type": "code",
   "execution_count": 1,
   "metadata": {},
   "outputs": [
    {
     "name": "stdout",
     "output_type": "stream",
     "text": [
      "hasil 14 + 5 = 19\n",
      "hasil 14 - 5 = 9\n",
      "hasil 14 * 5 = 70\n",
      "hasi 14 / 5 = 2.8\n",
      "hasil 14 % 5 = 4\n",
      "hasil 14 ** 5 = 537824\n"
     ]
    }
   ],
   "source": [
    "a=14\n",
    "b=5\n",
    "# menggunakan operatot penjumlahan\n",
    "c=a+b\n",
    "print(\"hasil\",a,\"+\",b,\"=\",c)\n",
    "# mengguakan operator pengurangan\n",
    "c=a-b\n",
    "print(\"hasil\",a,\"-\",b,\"=\",c)\n",
    "# mengguakan operator pekalian\n",
    "c=a*b\n",
    "print(\"hasil\",a,\"*\",b,\"=\",c)\n",
    "# mengguakan operator pembagian\n",
    "c=a/b\n",
    "print(\"hasi\",a,\"/\",b,\"=\",c)\n",
    "# menggunakan operator sisa bagi\n",
    "c=a&b\n",
    "print(\"hasil\",a,\"%\",b,\"=\",c)\n",
    "# mengguakan operator pemangkatan\n",
    "c=a**b\n",
    "print(\"hasil\",a,\"**\",b,\"=\",c)"
   ]
  },
  {
   "cell_type": "code",
   "execution_count": 2,
   "metadata": {},
   "outputs": [
    {
     "name": "stdout",
     "output_type": "stream",
     "text": [
      "20\n",
      "25\n",
      "20\n",
      "4.0\n",
      "20.0\n",
      "0.0\n",
      "0.0\n"
     ]
    }
   ],
   "source": [
    "a=20\n",
    "print(a)\n",
    "a+=5\n",
    "print(a)\n",
    "a-=5\n",
    "print(a)\n",
    "a/=5\n",
    "print(a)\n",
    "a*=5\n",
    "print(a)\n",
    "a%=5\n",
    "print(a)\n",
    "a**=5\n",
    "print(a)"
   ]
  },
  {
   "cell_type": "code",
   "execution_count": 4,
   "metadata": {},
   "outputs": [
    {
     "name": "stdout",
     "output_type": "stream",
     "text": [
      "apakah a sama dengan b: False\n",
      "apakah a lebih besar dari b: True\n",
      "apakah a lebih kecil dari b: False\n",
      "apakah a tidak sama dengan b: True\n",
      "apakah a lebih besar sama dengan b: True\n",
      "apakah a lebih kecil sama dengan b: False\n"
     ]
    }
   ],
   "source": [
    "a=13\n",
    "b=8\n",
    "# apakah a sama dengan b ?\n",
    "c=a==b\n",
    "print(\"apakah a sama dengan b:\",c)\n",
    "# apakah a lebih besar dari b ?\n",
    "d=a>b\n",
    "print(\"apakah a lebih besar dari b:\",d)\n",
    "#apakah a lebih kecil dari b ?\n",
    "e=a<b\n",
    "print(\"apakah a lebih kecil dari b:\",e)\n",
    "# apakah a tidak sama dengan b ?\n",
    "f=a!=b\n",
    "print(\"apakah a tidak sama dengan b:\",f)\n",
    "# apakah a lebih besar sama dengan dari b ?\n",
    "g=a>=b\n",
    "print(\"apakah a lebih besar sama dengan b:\",g)\n",
    "# apakah a lebih kecil sama dengan b /\n",
    "h=a<=b\n",
    "print(\"apakah a lebih kecil sama dengan b:\",h)"
   ]
  },
  {
   "cell_type": "code",
   "execution_count": 8,
   "metadata": {},
   "outputs": [
    {
     "name": "stdout",
     "output_type": "stream",
     "text": [
      "False\n",
      "True\n"
     ]
    }
   ],
   "source": [
    "a= True \n",
    "b= False\n",
    "# logika AND\n",
    "c=a and b\n",
    "print(c)\n",
    "#logika OR\n",
    "d=a or b\n",
    "print(d)\n"
   ]
  },
  {
   "cell_type": "code",
   "execution_count": 5,
   "metadata": {},
   "outputs": [
    {
     "name": "stdout",
     "output_type": "stream",
     "text": [
      "Masukan Nama Bayi:tono\n",
      "berapa berat badan bayi:3\n",
      "berat badan bayi dalam Ons : 30\n",
      "berat badan ditambah 30: 60\n",
      "berat badan bayi saat umur bertambah 1 bulan: 90\n"
     ]
    }
   ],
   "source": [
    "nama=input (\"Masukan Nama Bayi:\")\n",
    "weight=int(input(\"berapa berat badan bayi:\"))\n",
    "weight_1=weight*10 \n",
    "weight_2=weight_1+30\n",
    "weight_3=weight_2+30\n",
    "# menampilkan output\n",
    "print(\"berat badan bayi dalam Ons :\",weight_1)\n",
    "print(\"berat badan ditambah 30:\",weight_2)\n",
    "print(\"berat badan bayi saat umur bertambah 1 bulan:\",weight_3)"
   ]
  },
  {
   "cell_type": "raw",
   "metadata": {},
   "source": []
  },
  {
   "cell_type": "code",
   "execution_count": null,
   "metadata": {},
   "outputs": [],
   "source": []
  }
 ],
 "metadata": {
  "kernelspec": {
   "display_name": "Python 3",
   "language": "python",
   "name": "python3"
  },
  "language_info": {
   "codemirror_mode": {
    "name": "ipython",
    "version": 3
   },
   "file_extension": ".py",
   "mimetype": "text/x-python",
   "name": "python",
   "nbconvert_exporter": "python",
   "pygments_lexer": "ipython3",
   "version": "3.8.3"
  }
 },
 "nbformat": 4,
 "nbformat_minor": 4
}
