{
 "cells": [
  {
   "cell_type": "code",
   "execution_count": 1,
   "metadata": {},
   "outputs": [
    {
     "name": "stdout",
     "output_type": "stream",
     "text": [
      "siapa nama andaMuhammad Abdul Malik\n",
      "nama saya adalah  Muhammad Abdul Malik\n",
      "luas persegi= 50\n",
      "luas persegi= 5000\n"
     ]
    }
   ],
   "source": [
    "#muhammad abdul malik\n",
    "#membuat fungsi yang datanya dari keyboard \n",
    "def perkenalan():\n",
    "    nama = input (\"siapa nama anda\")\n",
    "    print (\"nama saya adalah \", nama)\n",
    "    \n",
    "#fungsi 2 parameter\n",
    "def luas_pp (panjang, lebar):\n",
    "    luas = panjang*lebar\n",
    "    print (\"luas persegi=\", luas)\n",
    "    \n",
    "#pemanggilan fungsi \n",
    "perkenalan()\n",
    "luas_pp(5,10)\n",
    "luas_pp(100,50)"
   ]
  },
  {
   "cell_type": "code",
   "execution_count": 2,
   "metadata": {},
   "outputs": [
    {
     "name": "stdout",
     "output_type": "stream",
     "text": [
      "panjang = 10\n",
      "lebar = 20\n",
      "tinggi = 15\n",
      "luas persegi panjang  200\n",
      "volume balok  3000\n"
     ]
    }
   ],
   "source": [
    "panjang = int(input(\"panjang = \"))\n",
    "lebar= int(input(\"lebar = \"))\n",
    "tinggi= int(input(\"tinggi = \"))\n",
    "\n",
    "# rumus pxl\n",
    "def luas_pp():\n",
    "    luas = panjang * lebar \n",
    "    return luas \n",
    "\n",
    "# rumus pxlxt\n",
    "def volume_balok():\n",
    "    volume = luas_pp()*tinggi\n",
    "    return volume \n",
    "\n",
    "print (\"luas persegi panjang \", luas_pp())\n",
    "print (\"volume balok \", volume_balok())    "
   ]
  },
  {
   "cell_type": "code",
   "execution_count": 8,
   "metadata": {},
   "outputs": [
    {
     "name": "stdout",
     "output_type": "stream",
     "text": [
      "angka pertama= 7\n",
      "angka kedua= 8\n",
      "apakah a sama dengan dari b: False\n",
      "apakah a lebih besar dari b: False\n"
     ]
    }
   ],
   "source": [
    "#FUNGSI , INPUT, OPERATOR\n",
    "a = int (input(\"angka pertama= \"))\n",
    "b = int (input (\"angka kedua= \"))\n",
    "\n",
    "#apakah a sama dengan b?\n",
    "def sama_dengan():\n",
    "    c = a == b\n",
    "    #print (\"apakah a sama dengan b:\", c)\n",
    "    return c\n",
    "\n",
    "#apakah a lebih besar dari b?\n",
    "def lebih_besar():\n",
    "    d = a > b\n",
    "    #print (\"apakah a lebih besar dari b:\", d)\n",
    "    return d\n",
    "\n",
    "#sama_dengan()\n",
    "#lebih_besar()\n",
    "\n",
    "print(\"apakah a sama dengan dari b:\", sama_dengan())\n",
    "print(\"apakah a lebih besar dari b:\", lebih_besar())"
   ]
  },
  {
   "cell_type": "code",
   "execution_count": null,
   "metadata": {},
   "outputs": [],
   "source": []
  },
  {
   "cell_type": "code",
   "execution_count": null,
   "metadata": {},
   "outputs": [],
   "source": []
  }
 ],
 "metadata": {
  "kernelspec": {
   "display_name": "Python 3",
   "language": "python",
   "name": "python3"
  },
  "language_info": {
   "codemirror_mode": {
    "name": "ipython",
    "version": 3
   },
   "file_extension": ".py",
   "mimetype": "text/x-python",
   "name": "python",
   "nbconvert_exporter": "python",
   "pygments_lexer": "ipython3",
   "version": "3.8.3"
  }
 },
 "nbformat": 4,
 "nbformat_minor": 4
}
